{
 "cells": [
  {
   "cell_type": "code",
   "execution_count": 2,
   "metadata": {},
   "outputs": [
    {
     "name": "stdout",
     "output_type": "stream",
     "text": [
      "8812.491466642796\n"
     ]
    }
   ],
   "source": [
    "#Note: THE DEFAULT VALUE OF ISENTROPIC EFFICIENCIES IS 0, HENCE ANY NON ZERO VALUE (INCLUDING 1.0) MUST BE INPUTTED MANUALLY.\n",
    "%run Functions.ipynb\n",
    "%run Initialiser.ipynb\n",
    "\n",
    "#Otto cycle\n",
    "solveforspecific=True\n",
    "massflowrate=50\n",
    "\n",
    "componenttype[0]=\"compressor\"\n",
    "componenttype[2]=\"turbine\"\n",
    "isenefficiency[0]=1\n",
    "isenefficiency[2]=1\n",
    "\n",
    "processtype[0]=\"adiabatic\"\n",
    "processtype[1]=\"isochoric\"\n",
    "processtype[2]=\"adiabatic\"\n",
    "processtype[3]=\"isochoric\"\n",
    "\n",
    "P[0]=100000\n",
    "T[0]=10+273.15\n",
    "vratio[0]=1/9\n",
    "T[2]=2500\n"
   ]
  }
 ],
 "metadata": {
  "kernelspec": {
   "display_name": "base",
   "language": "python",
   "name": "python3"
  },
  "language_info": {
   "codemirror_mode": {
    "name": "ipython",
    "version": 3
   },
   "file_extension": ".py",
   "mimetype": "text/x-python",
   "name": "python",
   "nbconvert_exporter": "python",
   "pygments_lexer": "ipython3",
   "version": "3.9.13"
  },
  "orig_nbformat": 4
 },
 "nbformat": 4,
 "nbformat_minor": 2
}
