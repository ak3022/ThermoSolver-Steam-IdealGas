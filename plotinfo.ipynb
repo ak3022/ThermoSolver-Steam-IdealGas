{
 "cells": [
  {
   "cell_type": "code",
   "execution_count": 1,
   "metadata": {},
   "outputs": [],
   "source": [
    "#Note: THE DEFAULT VALUE OF ISENTROPIC EFFICIENCIES IS 0, HENCE ANY NON ZERO VALUE (INCLUDING 1.0) MUST BE INPUTTED MANUALLY.\n",
    "%run Functions.ipynb\n",
    "%run Initialiser.ipynb\n",
    "#_____________________________________ONLY EDIT STUFF BELOW THIS________________________________________________________#\n",
    "\n",
    "solveforspecific=False\n",
    "massflowrate=50\n",
    "\n",
    "componenttype[0]=\"compressor\"\n",
    "componenttype[2]=\"turbine\"\n",
    "isenefficiency[0]=1\n",
    "isenefficiency[2]=0.8\n",
    "\n",
    "processtype[0]=\"adiabatic\"\n",
    "processtype[1]=\"isochoric\"\n",
    "processtype[2]=\"adiabatic\"\n",
    "processtype[3]=\"isochoric\"\n",
    "\n",
    "\n",
    "P[0]=100000\n",
    "T[0]=300\n",
    "vratio[2]=18\n",
    "T[2]=2500\n"
   ]
  }
 ],
 "metadata": {
  "kernelspec": {
   "display_name": "base",
   "language": "python",
   "name": "python3"
  },
  "language_info": {
   "codemirror_mode": {
    "name": "ipython",
    "version": 3
   },
   "file_extension": ".py",
   "mimetype": "text/x-python",
   "name": "python",
   "nbconvert_exporter": "python",
   "pygments_lexer": "ipython3",
   "version": "3.9.13"
  },
  "orig_nbformat": 4
 },
 "nbformat": 4,
 "nbformat_minor": 2
}
