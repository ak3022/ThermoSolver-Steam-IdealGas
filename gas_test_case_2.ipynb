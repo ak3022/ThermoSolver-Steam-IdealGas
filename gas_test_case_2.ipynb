{
 "cells": [
  {
   "cell_type": "code",
   "execution_count": null,
   "metadata": {},
   "outputs": [],
   "source": [
    "#three stage isothermal-isobaric-isentropic cycle\n",
    "#working fluid is Hydrogen. Update the fluid in Initialiser.ipynb. \n",
    "#Also ensure that numberofstates=3; change this if necessary in Initialiser.ipynb.\n",
    "T[0]=300\n",
    "P[0] = 1000000\n",
    "P[1] = 10000000\n",
    "\n",
    "processtype[0] = \"Isothermal\"\n",
    "processtype[1] = \"Isobaric\"\n",
    "processtype[2] = \"adiabatic\"\n",
    "\n",
    "componenttype[0] = \"\"\n",
    "componenttype[1] = \"Boiler\"\n",
    "componenttype[2] = \"Turbine\"\n",
    "\n",
    "wtransfer[0] = -3000*10**3\n",
    "isenefficiency[2]=1.0\n",
    "massflowrate=50\n",
    "solveforspecific=False\n",
    "\n",
    "\n"
   ]
  }
 ],
 "metadata": {
  "language_info": {
   "name": "python"
  },
  "orig_nbformat": 4
 },
 "nbformat": 4,
 "nbformat_minor": 2
}
