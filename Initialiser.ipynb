{
 "cells": [
  {
   "cell_type": "code",
   "execution_count": 1,
   "metadata": {},
   "outputs": [],
   "source": [
    "import numpy as np\n",
    "numberofstates=4 #number of end-states in the cycle.                                                                                                 \n",
    "fluid=\"air\" #Change fluid type by changing the value of the variable, fluid.\n",
    "\n",
    "T= [0]*numberofstates                                                                                                 \n",
    "P=[0]*numberofstates\n",
    "v= [0]*numberofstates\n",
    "u= [0]*numberofstates\n",
    "h=[0]*numberofstates\n",
    "s =[0]*numberofstates\n",
    "x=[\"\"]*numberofstates #initialising lists of properties\n",
    "\n",
    "if fluid==\"water\":\n",
    "    propslist=[x,P,T,u,s,h,v]\n",
    "elif fluid!=\"water\":\n",
    "    propslist=[P,T,u,s,h,v]\n",
    "\n",
    "Qdot=[\"\"]*numberofstates\n",
    "Wdot=[\"\"]*numberofstates\n",
    "\n",
    "isenefficiency = [0]*numberofstates #default value is zero, hence in all cases, isentropic efficiency must be inputted by the user, else it will lead to an error.\n",
    "qtransfer =[\"\"]*numberofstates #specific heat                                                                                         \n",
    "wtransfer =[\"\"]*numberofstates #specific work\n",
    "c = [0] * numberofstates #only input. doesnt find it for us. \n",
    "z = [0] * numberofstates #only input. doesnt find it for us.                                                                                              \n",
    "processtype = [\"\"]*numberofstates #isochoric, isenthalpic, isobaric, adiabatic (reversible=isentropic), isothermal.\n",
    "componenttype = [\"\"]*numberofstates #turbine, compressor, boiler, condensor.\n",
    "\n",
    "Tratio = [0]*numberofstates             \n",
    "Pratio = [0]*numberofstates\n",
    "vratio = [0]*numberofstates\n",
    "\n",
    "massflowrate=0 #default value, it can be changed.\n",
    "solveforspecific=True #when this is true, the program will solve for only specific heat and work values.\n",
    "\n"
   ]
  }
 ],
 "metadata": {
  "kernelspec": {
   "display_name": "base",
   "language": "python",
   "name": "python3"
  },
  "language_info": {
   "codemirror_mode": {
    "name": "ipython",
    "version": 3
   },
   "file_extension": ".py",
   "mimetype": "text/x-python",
   "name": "python",
   "nbconvert_exporter": "python",
   "pygments_lexer": "ipython3",
   "version": "3.9.13"
  },
  "orig_nbformat": 4
 },
 "nbformat": 4,
 "nbformat_minor": 2
}
