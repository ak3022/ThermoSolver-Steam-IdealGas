{
 "cells": [
  {
   "cell_type": "code",
   "execution_count": null,
   "metadata": {},
   "outputs": [],
   "source": [
    "#test case 4: isochoric and isobaric alternating\n",
    "solveforspecific=True #since we need specific heat and work\n",
    "\n",
    "componenttype[0]=\"Boiler\"\n",
    "componenttype[1]=\"\"\n",
    "componenttype[2]=\"condensor\"\n",
    "componenttype[3]=\"\"\n",
    "\n",
    "processtype[1]=\"isochoric\"\n",
    "processtype[3]=\"isochoric\"\n",
    "\n",
    "Qdot[0]=500000 \n",
    "\n",
    "vratio[0]=25\n",
    "Pratio[3]=30\n",
    "P[2]=100000\n",
    "x[0]=0.2\n",
    "\n",
    "\n"
   ]
  }
 ],
 "metadata": {
  "language_info": {
   "name": "python"
  },
  "orig_nbformat": 4
 },
 "nbformat": 4,
 "nbformat_minor": 2
}
