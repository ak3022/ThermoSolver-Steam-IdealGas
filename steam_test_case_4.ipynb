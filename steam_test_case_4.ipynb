{
 "cells": [
  {
   "cell_type": "code",
   "execution_count": null,
   "metadata": {},
   "outputs": [],
   "source": [
    "#test case 4: isochoric and isobaric alternating\n",
    "solveforspecific=True\n",
    "\n",
    "componenttype[0]=\"Boiler\"\n",
    "componenttype[1]=\"\"\n",
    "componenttype[2]=\"condensor\"\n",
    "componenttype[3]=\"\"\n",
    "\n",
    "processtype[1]=\"isochoric\"\n",
    "processtype[3]=\"isochoric\"\n",
    "qtransfer[0]=2000000\n",
    "Qdot[0]=500000 #can find mdot from this info\n",
    "\n",
    "Pratio[1]=1/20\n",
    "P[2]=100000\n",
    "x[0]=0.2\n",
    "\n",
    "\n"
   ]
  }
 ],
 "metadata": {
  "language_info": {
   "name": "python"
  },
  "orig_nbformat": 4
 },
 "nbformat": 4,
 "nbformat_minor": 2
}
