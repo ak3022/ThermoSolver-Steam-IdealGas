{
 "cells": [
  {
   "cell_type": "code",
   "execution_count": null,
   "metadata": {},
   "outputs": [],
   "source": [
    "#Test case 2: uses work done and heat to get isenefficiencies\n",
    "#Copy and paste into \"plotinfo\" file. \n",
    "\n",
    "solveforspecific=False\n",
    "massflowrate=0.5\n",
    "\n",
    "componenttype[0]=\"condensor\"\n",
    "componenttype[1]=\"compressor\"\n",
    "componenttype[2]=\"boiler\"\n",
    "componenttype[3]=\"turbine\"\n",
    "\n",
    "Wdot[1]=-100000\n",
    "Wdot[3]=200000\n",
    "\n",
    "P[2]=5*10**6\n",
    "#T[3]=800\n",
    "P[0]=600000\n",
    "x[1]=0.4 #actually sat liq, but then line appears too small\n",
    "\n",
    "Qdot[2]=900000\n",
    "\n",
    "#remove T[3] and add: Qdot[2]=900000\n"
   ]
  }
 ],
 "metadata": {
  "language_info": {
   "name": "python"
  },
  "orig_nbformat": 4
 },
 "nbformat": 4,
 "nbformat_minor": 2
}
