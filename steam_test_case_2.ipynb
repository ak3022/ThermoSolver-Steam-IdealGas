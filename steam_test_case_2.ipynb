{
 "cells": [
  {
   "cell_type": "code",
   "execution_count": null,
   "metadata": {},
   "outputs": [],
   "source": [
    "#Test case 2: uses work done and heat to get isenefficiencies\n",
    "#Copy and paste into \"plotinfo\" file. \n",
    "\n",
    "solveforspecific=False\n",
    "massflowrate=20\n",
    "\n",
    "componenttype[0]=\"condensor\"\n",
    "componenttype[1]=\"compressor\"\n",
    "componenttype[2]=\"boiler\"\n",
    "componenttype[3]=\"turbine\"\n",
    "\n",
    "Wdot[3]=2000000\n",
    "Wdot[1]=-390000\n",
    "Pratio[1]=90\n",
    "T[3]=700 #change to 900, 1100, 1300\n",
    "P[2]=100*10**5\n",
    "x[1]=0\n",
    "\n",
    "\n"
   ]
  }
 ],
 "metadata": {
  "kernelspec": {
   "display_name": "base",
   "language": "python",
   "name": "python3"
  },
  "language_info": {
   "name": "python",
   "version": "3.9.13"
  },
  "orig_nbformat": 4
 },
 "nbformat": 4,
 "nbformat_minor": 2
}
