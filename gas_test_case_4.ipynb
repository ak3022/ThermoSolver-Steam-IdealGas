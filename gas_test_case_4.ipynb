{
 "cells": [
  {
   "cell_type": "code",
   "execution_count": null,
   "metadata": {},
   "outputs": [],
   "source": [
    "#Otto cycle, gas test case 4\n",
    "#Gas used: Air\n",
    "solveforspecific=True\n",
    "massflowrate=50\n",
    "\n",
    "componenttype[0]=\"compressor\"\n",
    "componenttype[2]=\"turbine\"\n",
    "isenefficiency[0]=1\n",
    "isenefficiency[2]=1\n",
    "\n",
    "processtype[0]=\"adiabatic\"\n",
    "processtype[1]=\"isochoric\"\n",
    "processtype[2]=\"adiabatic\"\n",
    "processtype[3]=\"isochoric\"\n",
    "\n",
    "P[0]=100000\n",
    "T[0]=10+273.15\n",
    "vratio[0]=1/9\n",
    "T[2]=2500"
   ]
  }
 ],
 "metadata": {
  "language_info": {
   "name": "python"
  },
  "orig_nbformat": 4
 },
 "nbformat": 4,
 "nbformat_minor": 2
}
