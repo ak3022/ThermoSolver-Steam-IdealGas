{
 "cells": [
  {
   "cell_type": "code",
   "execution_count": 1,
   "metadata": {},
   "outputs": [],
   "source": [
    "#test case 3: three stage cycle: isenthalpic, isobaric, isochoric\n",
    "\n",
    "#first set numberofstates=3 in initialiser\n",
    "solveforspecific=True\n",
    "massflowrate=5\n",
    "componenttype[0]=\"throttle\"\n",
    "componenttype[1]=\"condensor\"\n",
    "componenttype[2]=\"\"\n",
    "\n",
    "processtype[0]=\"isenthalpic\"\n",
    "processtype[1]=\"isobaric\"\n",
    "processtype[2]=\"isochoric\"\n",
    "\n",
    "Qdot[2]=50*10**6\n",
    "\n",
    "P[0]=2*10**7\n",
    "x[0]=0.8\n",
    "vratio[0]=50"
   ]
  }
 ],
 "metadata": {
  "kernelspec": {
   "display_name": "base",
   "language": "python",
   "name": "python3"
  },
  "language_info": {
   "codemirror_mode": {
    "name": "ipython",
    "version": 3
   },
   "file_extension": ".py",
   "mimetype": "text/x-python",
   "name": "python",
   "nbconvert_exporter": "python",
   "pygments_lexer": "ipython3",
   "version": "3.9.13"
  },
  "orig_nbformat": 4
 },
 "nbformat": 4,
 "nbformat_minor": 2
}
