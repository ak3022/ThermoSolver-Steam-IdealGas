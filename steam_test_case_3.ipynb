{
 "cells": [
  {
   "cell_type": "code",
   "execution_count": null,
   "metadata": {},
   "outputs": [],
   "source": [
    "#test case 3: three stage cycle: isenthalpic, isobaric, isochoric\n",
    "\n",
    "#first set numberofstates=3 in initialiser\n",
    "solveforspecific=True\n",
    "massflowrate=5\n",
    "componenttype[0]=\"throttle\"\n",
    "componenttype[1]=\"condensor\"\n",
    "componenttype[2]=\"\"\n",
    "\n",
    "processtype[0]=\"isenthalpic\"\n",
    "processtype[1]=\"isobaric\"\n",
    "processtype[2]=\"isochoric\"\n",
    "\n",
    "Qdot[2]=20000\n",
    "\n",
    "P[0]=2000000\n",
    "x[0]=0.7\n",
    "P[1]=500000\n"
   ]
  }
 ],
 "metadata": {
  "language_info": {
   "name": "python"
  },
  "orig_nbformat": 4
 },
 "nbformat": 4,
 "nbformat_minor": 2
}
