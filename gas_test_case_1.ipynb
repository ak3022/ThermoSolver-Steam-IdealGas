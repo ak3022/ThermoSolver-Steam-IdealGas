{
 "cells": [
  {
   "cell_type": "code",
   "execution_count": null,
   "metadata": {},
   "outputs": [],
   "source": [
    "#Gas used: Helium. Change the fluid to \"Helium\" in Initialiser.ipynb. Classic Diesel cycle example\n",
    "solveforspecific = True\n",
    "massflowrate=50\n",
    "\n",
    "T[0] = 280\n",
    "P[0]=100\n",
    "T[2]=1200\n",
    "\n",
    "componenttype[0] = \"Compressor\"\n",
    "componenttype[1] = \"Boiler\"\n",
    "componenttype[2] = \"Turbine\"\n",
    "componenttype[3] = \"Condensor\"\n",
    "\n",
    "isenefficiency[0] = 0.85\n",
    "isenefficiency[2] = 0.9\n",
    "\n",
    "Pratio[0] = 5\n",
    "\n"
   ]
  }
 ],
 "metadata": {
  "language_info": {
   "name": "python"
  },
  "orig_nbformat": 4
 },
 "nbformat": 4,
 "nbformat_minor": 2
}
