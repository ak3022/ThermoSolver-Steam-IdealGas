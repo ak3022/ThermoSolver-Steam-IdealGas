{
 "cells": [
  {
   "cell_type": "code",
   "execution_count": null,
   "metadata": {},
   "outputs": [],
   "source": [
    "#Isobarric and isochoric alternating\n",
    "#fluid: Air\n",
    "solveforspecific=False\n",
    "massflowrate=50\n",
    "\n",
    "processtype[0]=\"isobaric\"\n",
    "processtype[1]=\"isochoric\"\n",
    "processtype[2]=\"isobaric\"\n",
    "processtype[3]=\"isochoric\"\n",
    "\n",
    "componenttype[0]=\"Boiler\"\n",
    "componenttype[2]=\"Condensor\"\n",
    "\n",
    "T[0]=500\n",
    "v[0]=0.02\n",
    "vratio[0]=4\n",
    "Pratio[1]=1/3\n"
   ]
  }
 ],
 "metadata": {
  "language_info": {
   "name": "python"
  },
  "orig_nbformat": 4
 },
 "nbformat": 4,
 "nbformat_minor": 2
}
