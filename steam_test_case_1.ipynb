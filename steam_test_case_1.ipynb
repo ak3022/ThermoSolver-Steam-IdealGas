{
 "cells": [
  {
   "cell_type": "code",
   "execution_count": null,
   "metadata": {},
   "outputs": [],
   "source": [
    "#Test case 1: Ideal Rankine cycle, does not use heat and work, instead, finds them. Also play around with isen efficiencies to explore non ideal case\n",
    "#Copy and paste into \"plotinfo\" file. \n",
    "\n",
    "solveforspecific=False\n",
    "massflowrate=0.5\n",
    "\n",
    "componenttype[0]=\"condensor\"\n",
    "componenttype[1]=\"compressor\"\n",
    "componenttype[2]=\"boiler\"\n",
    "componenttype[3]=\"turbine\"\n",
    "\n",
    "isenefficiency[1]=1.0\n",
    "isenefficiency[3]=1.0\n",
    "\n",
    "P[2]=5*10**6\n",
    "T[3]=800\n",
    "P[0]=600000\n",
    "x[1]=0.4 #actually sat liq, but then line appears too small\n",
    "\n"
   ]
  }
 ],
 "metadata": {
  "language_info": {
   "name": "python"
  },
  "orig_nbformat": 4
 },
 "nbformat": 4,
 "nbformat_minor": 2
}
